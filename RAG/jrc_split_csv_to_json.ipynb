{
 "cells": [
  {
   "cell_type": "code",
   "execution_count": 1,
   "metadata": {},
   "outputs": [],
   "source": [
    "import pandas as pd\n",
    "from langchain.schema import Document\n",
    "import json"
   ]
  },
  {
   "cell_type": "code",
   "execution_count": 2,
   "metadata": {},
   "outputs": [],
   "source": [
    "\n",
    "# Load the csv as df\n",
    "jrc_csv = r'C:\\Scriptie\\prog test\\Final_clean_test\\JRC\\JRC Assessment Framework.csv'\n",
    "jrc_framework = pd.read_csv(jrc_csv)"
   ]
  },
  {
   "cell_type": "code",
   "execution_count": 5,
   "metadata": {},
   "outputs": [
    {
     "data": {
      "text/html": [
       "<div>\n",
       "<style scoped>\n",
       "    .dataframe tbody tr th:only-of-type {\n",
       "        vertical-align: middle;\n",
       "    }\n",
       "\n",
       "    .dataframe tbody tr th {\n",
       "        vertical-align: top;\n",
       "    }\n",
       "\n",
       "    .dataframe thead th {\n",
       "        text-align: right;\n",
       "    }\n",
       "</style>\n",
       "<table border=\"1\" class=\"dataframe\">\n",
       "  <thead>\n",
       "    <tr style=\"text-align: right;\">\n",
       "      <th></th>\n",
       "      <th>CoC No</th>\n",
       "      <th>Name</th>\n",
       "      <th>Description</th>\n",
       "      <th>Expected</th>\n",
       "      <th>Value</th>\n",
       "      <th>Framework (latest version of the standard where not specified)</th>\n",
       "      <th>Evidence</th>\n",
       "    </tr>\n",
       "  </thead>\n",
       "  <tbody>\n",
       "    <tr>\n",
       "      <th>0</th>\n",
       "      <td>3.1.1</td>\n",
       "      <td>Group Involvement</td>\n",
       "      <td>Establish an approval board containing represe...</td>\n",
       "      <td>Entire Data Centre</td>\n",
       "      <td>5</td>\n",
       "      <td>The organisation shall establish an approval b...</td>\n",
       "      <td>Evidence would be copies of the approval board...</td>\n",
       "    </tr>\n",
       "    <tr>\n",
       "      <th>1</th>\n",
       "      <td>3.2.1</td>\n",
       "      <td>Consider the embodied environmental impact of ...</td>\n",
       "      <td>Carry out an audit of existing equipment to ma...</td>\n",
       "      <td>Entire Data Centre</td>\n",
       "      <td>3</td>\n",
       "      <td>The organisation shall carry out and document ...</td>\n",
       "      <td>Audit Documents</td>\n",
       "    </tr>\n",
       "    <tr>\n",
       "      <th>2</th>\n",
       "      <td>3.2.2</td>\n",
       "      <td>Mechanical and electrical equipment environmen...</td>\n",
       "      <td>Recommend the selection and deployment of mech...</td>\n",
       "      <td>New build or retrofit</td>\n",
       "      <td>4</td>\n",
       "      <td>The organisation shall recommend the selection...</td>\n",
       "      <td>Design &amp; Procurement Documents</td>\n",
       "    </tr>\n",
       "    <tr>\n",
       "      <th>3</th>\n",
       "      <td>3.2.4</td>\n",
       "      <td>Life Cycle Assessment</td>\n",
       "      <td>Introduce a plan for Life Cycle Assessment (LC...</td>\n",
       "      <td>New build or retrofit</td>\n",
       "      <td>3</td>\n",
       "      <td>The organisation shall introduce a plan for Li...</td>\n",
       "      <td>LCA documents</td>\n",
       "    </tr>\n",
       "    <tr>\n",
       "      <th>4</th>\n",
       "      <td>3.2.5</td>\n",
       "      <td>Environmental Management</td>\n",
       "      <td>Introduce a plan for Environmental Management ...</td>\n",
       "      <td>Entire Data Centre</td>\n",
       "      <td>3</td>\n",
       "      <td>The organisation shall introduce a plan for En...</td>\n",
       "      <td>ISO 14001 or Equivalent Documents or Certificate</td>\n",
       "    </tr>\n",
       "  </tbody>\n",
       "</table>\n",
       "</div>"
      ],
      "text/plain": [
       "  CoC No                                               Name  \\\n",
       "0  3.1.1                                  Group Involvement   \n",
       "1  3.2.1  Consider the embodied environmental impact of ...   \n",
       "2  3.2.2  Mechanical and electrical equipment environmen...   \n",
       "3  3.2.4                              Life Cycle Assessment   \n",
       "4  3.2.5                           Environmental Management   \n",
       "\n",
       "                                         Description               Expected  \\\n",
       "0  Establish an approval board containing represe...     Entire Data Centre   \n",
       "1  Carry out an audit of existing equipment to ma...     Entire Data Centre   \n",
       "2  Recommend the selection and deployment of mech...  New build or retrofit   \n",
       "3  Introduce a plan for Life Cycle Assessment (LC...  New build or retrofit   \n",
       "4  Introduce a plan for Environmental Management ...     Entire Data Centre   \n",
       "\n",
       "   Value Framework (latest version of the standard where not specified)  \\\n",
       "0      5  The organisation shall establish an approval b...               \n",
       "1      3  The organisation shall carry out and document ...               \n",
       "2      4  The organisation shall recommend the selection...               \n",
       "3      3  The organisation shall introduce a plan for Li...               \n",
       "4      3  The organisation shall introduce a plan for En...               \n",
       "\n",
       "                                            Evidence  \n",
       "0  Evidence would be copies of the approval board...  \n",
       "1                                    Audit Documents  \n",
       "2                     Design & Procurement Documents  \n",
       "3                                      LCA documents  \n",
       "4   ISO 14001 or Equivalent Documents or Certificate  "
      ]
     },
     "execution_count": 5,
     "metadata": {},
     "output_type": "execute_result"
    }
   ],
   "source": [
    "jrc_framework.head()"
   ]
  },
  {
   "cell_type": "code",
   "execution_count": null,
   "metadata": {},
   "outputs": [
    {
     "data": {
      "text/plain": [
       "[Document(metadata={'CoC No': '3.1.1', 'Name': 'Group Involvement', 'Excpected for': 'Entire Data Centre', 'Evidence': 'Evidence would be copies of the approval board minutes including circulation list.', 'Priority/Value': 5, 'Framework': 'The organisation shall establish an approval board that meets on a regular basis and shall contain representatives from all disciplines including Senior Management, IT, M&E Engineering, Applications/Software and Procurement. The organisation shall require the approval of this group for any significant decision to ensure that the impacts of the decision have been properly understood and an effective solution reached. For example, this could include the definition of standard IT hardware lists through considering the M&E implications of different types of hardware. This group could be seen as the functional equivalent of a change board. The meeting minutes shall be documented. Note: the frequency of the meetings shall be at the descretion of the organisation, but should be once every 3 months. tThe agenda should also be at the descretion of the organisation, but should include, but not be limited to the following, Attendees, Agenda, Items for discussion, Actions arising, AOB.', 'source': 'JRC Assessment Framework'}, page_content='CoC No: 3.1.1, Name: Group Involvement, Description: Establish an approval board containing representatives from all disciplines including Senior Management, IT, M&E Engineering, Applications/Software and Procurement. Require the approval of this group for any significant decision to ensure that the impacts of the decision have been properly understood and an effective solution reached. For example, this could include the definition of standard IT hardware lists through considering the M&E implications of different types of hardware. This group could be seen as the functional equivalent of a change board..'),\n",
       " Document(metadata={'CoC No': '3.2.1', 'Name': 'Consider the embodied environmental impact of installed devices', 'Excpected for': 'Entire Data Centre', 'Evidence': 'Audit Documents', 'Priority/Value': 3, 'Framework': 'The organisation shall carry out and document an audit of all existing equipment to maximise any unused existing capability by ensuring that all areas of optimisation, consolidation and aggregation are identified prior to new material investment. Note: The severity of impact is related to the frequency of refresh and replacement.', 'source': 'JRC Assessment Framework'}, page_content='CoC No: 3.2.1, Name: Consider the embodied environmental impact of installed devices, Description: Carry out an audit of existing equipment to maximise any unused existing capability by ensuring that all areas of optimisation, consolidation and aggregation are identified prior to new material investment. The most important element to this in terms of impact is the IT equipment. The severity of impact is related to the frequency of refresh and replacement..'),\n",
       " Document(metadata={'CoC No': '3.2.2', 'Name': 'Mechanical and electrical equipment environmental operating ranges', 'Excpected for': 'New build or retrofit', 'Evidence': 'Design & Procurement Documents', 'Priority/Value': 4, 'Framework': 'The organisation shall recommend the selection and deployment of mechanical and electrical equipment which does not itsel f require additional cooling beyond standard office room cooling in normal operation. Note: the exception to this being some UPS batteries. Some UPS batteries require to be kept at lower temperatures to preserve performance and reliability and to maximise operational lifetime.', 'source': 'JRC Assessment Framework'}, page_content='CoC No: 3.2.2, Name: Mechanical and electrical equipment environmental operating ranges, Description: Recommend the selection and deployment of mechanical and electrical equipment which does not itself require additional cooling beyond standard office room cooling in normal operation (the exception to this being some UPS batteries). Note: Some UPS batteries require to be kept at lower temperatures to preserve performance and reliability and to maximise operational lifetime..'),\n",
       " Document(metadata={'CoC No': '3.2.4', 'Name': 'Life Cycle Assessment', 'Excpected for': 'New build or retrofit', 'Evidence': 'LCA documents', 'Priority/Value': 3, 'Framework': 'The organisation shall introduce a plan for Life Cycle Assessment (LCA) in accordance with EU guidelines and internationally standardised methodologies. Note: Examples are notably the latest version of EN ISO 14040, EN ISO 14044, EN 15978 \"\\x91Sustainability of construction works \\x96 assessment of environmental performance of buildings \\x96 calculation method\\x92 is also a standard that is considered relevant to this Practice. Note: This Practice aims to reduce overall carbon footprint and improve sustainability rather than directly improve energy efficiency. A list of recommended environmental sustainability practices is available in the latest version of CEN/CENELEC document CLC/TR 50600-99-2.', 'source': 'JRC Assessment Framework'}, page_content=\"CoC No: 3.2.4, Name: Life Cycle Assessment, Description: Introduce a plan for Life Cycle Assessment (LCA) in accordance with EU guidelines and internationally standardised methodologies. Examples of which would be ISO 14040 and ISO 14044. EN 15978 'Sustainability of construction works - assessment of environmental performance of buildings - calculation method' is also a standard that is considered relevant to this Practice. Note: This Practice aims to reduce overall carbon footprint and improve sustainability rather than directly improve energy efficiency. A list of recommended environmental sustainability practices is available in the CEN/CENELEC document CLC/TR 50600-99-2..\"),\n",
       " Document(metadata={'CoC No': '3.2.5', 'Name': 'Environmental Management', 'Excpected for': 'Entire Data Centre', 'Evidence': 'ISO 14001 or Equivalent Documents or Certificate', 'Priority/Value': 3, 'Framework': 'The organisation shall introduce a plan for Environmental Management in accordance with emerging EU guidelines and internationally standardised methodologies, for example EN ISO 14001. The organisation shall consider appointing a cross-functional Environmental Sustainability Manager to take responsibility for this initiative. Note: this practice can be fullfilled by implementation of practice 326.', 'source': 'JRC Assessment Framework'}, page_content='CoC No: 3.2.5, Name: Environmental Management, Description: Introduce a plan for Environmental Management in accordance with emerging EU guidelines and internationally standardised methodologies. An example of which would be ISO 14001. Consider appointing a cross functional Environmental Sustainability Manager to take responsibility for this initiative..')]"
      ]
     },
     "execution_count": 7,
     "metadata": {},
     "output_type": "execute_result"
    }
   ],
   "source": [
    "# extract the rows from the csv and create a document for each row\n",
    "\n",
    "documents = []\n",
    "\n",
    "for _, row in jrc_framework.iterrows():\n",
    "    # Create page_content with relevant fields\n",
    "    content = f\"CoC No: {row['CoC No']}, Name: {row['Name']}, Description: {row['Description']}.\"\n",
    "    \n",
    "    \n",
    "    # if isinstance(row['Framework (latest version of the standard where not specified)'], str):\n",
    "    #     content += f\" Framework: {row['Framework (latest version of the standard where not specified)']}.\"\n",
    "    \n",
    "    # Create metadata\n",
    "    metadata = {\n",
    "        \"CoC No\": row['CoC No'],\n",
    "        \"Name\": row['Name'],\n",
    "        \"Excpected for\": row['Expected'],\n",
    "        \"Evidence\": row['Evidence'],\n",
    "        \"Priority/Value\": row['Value'],\n",
    "        \"Framework\": row['Framework (latest version of the standard where not specified)'],\n",
    "        \"source\": \"JRC Assessment Framework\"\n",
    "    }\n",
    "    \n",
    "    # Make Documenttype\n",
    "    documents.append(Document(metadata=metadata, page_content=content))\n",
    "\n",
    "# Output the first few documents to verify\n",
    "documents[:5]\n"
   ]
  },
  {
   "cell_type": "code",
   "execution_count": null,
   "metadata": {},
   "outputs": [
    {
     "name": "stdout",
     "output_type": "stream",
     "text": [
      "saved!\n"
     ]
    }
   ],
   "source": [
    "# save the documents to a json file\n",
    "\n",
    "# Convert Document objects to dict so its same as ISO\n",
    "documents_dict = [\n",
    "    {\"metadata\": doc.metadata, \"page_content\": doc.page_content} for doc in documents\n",
    "]\n",
    "\n",
    "# Save to JSON for further processing\n",
    "with open(\"Chunked_files\\\\JRCsubsectionsAll.json\", \"w\") as outfile:\n",
    "    json.dump(documents_dict, outfile, indent=4)\n",
    "\n",
    "print(\"saved!\")"
   ]
  },
  {
   "cell_type": "code",
   "execution_count": 9,
   "metadata": {},
   "outputs": [
    {
     "ename": "TypeError",
     "evalue": "Object of type Document is not JSON serializable",
     "output_type": "error",
     "traceback": [
      "\u001b[1;31m---------------------------------------------------------------------------\u001b[0m",
      "\u001b[1;31mTypeError\u001b[0m                                 Traceback (most recent call last)",
      "Cell \u001b[1;32mIn[9], line 3\u001b[0m\n\u001b[0;32m      1\u001b[0m \u001b[38;5;66;03m# Save to JSON for further processing\u001b[39;00m\n\u001b[0;32m      2\u001b[0m \u001b[38;5;28;01mwith\u001b[39;00m \u001b[38;5;28mopen\u001b[39m(\u001b[38;5;124m\"\u001b[39m\u001b[38;5;124mChunked_files\u001b[39m\u001b[38;5;130;01m\\\\\u001b[39;00m\u001b[38;5;124mJRCsubsectionsAll.json\u001b[39m\u001b[38;5;124m\"\u001b[39m, \u001b[38;5;124m\"\u001b[39m\u001b[38;5;124mw\u001b[39m\u001b[38;5;124m\"\u001b[39m) \u001b[38;5;28;01mas\u001b[39;00m outfile:\n\u001b[1;32m----> 3\u001b[0m     \u001b[43mjson\u001b[49m\u001b[38;5;241;43m.\u001b[39;49m\u001b[43mdump\u001b[49m\u001b[43m(\u001b[49m\u001b[43mdocuments\u001b[49m\u001b[43m,\u001b[49m\u001b[43m \u001b[49m\u001b[43moutfile\u001b[49m\u001b[43m,\u001b[49m\u001b[43m \u001b[49m\u001b[43mindent\u001b[49m\u001b[38;5;241;43m=\u001b[39;49m\u001b[38;5;241;43m4\u001b[39;49m\u001b[43m)\u001b[49m\n\u001b[0;32m      5\u001b[0m \u001b[38;5;28mprint\u001b[39m(\u001b[38;5;124m\"\u001b[39m\u001b[38;5;124msaved!\u001b[39m\u001b[38;5;124m\"\u001b[39m)\n",
      "File \u001b[1;32mC:\\Program Files\\WindowsApps\\PythonSoftwareFoundation.Python.3.11_3.11.2544.0_x64__qbz5n2kfra8p0\\Lib\\json\\__init__.py:179\u001b[0m, in \u001b[0;36mdump\u001b[1;34m(obj, fp, skipkeys, ensure_ascii, check_circular, allow_nan, cls, indent, separators, default, sort_keys, **kw)\u001b[0m\n\u001b[0;32m    173\u001b[0m     iterable \u001b[38;5;241m=\u001b[39m \u001b[38;5;28mcls\u001b[39m(skipkeys\u001b[38;5;241m=\u001b[39mskipkeys, ensure_ascii\u001b[38;5;241m=\u001b[39mensure_ascii,\n\u001b[0;32m    174\u001b[0m         check_circular\u001b[38;5;241m=\u001b[39mcheck_circular, allow_nan\u001b[38;5;241m=\u001b[39mallow_nan, indent\u001b[38;5;241m=\u001b[39mindent,\n\u001b[0;32m    175\u001b[0m         separators\u001b[38;5;241m=\u001b[39mseparators,\n\u001b[0;32m    176\u001b[0m         default\u001b[38;5;241m=\u001b[39mdefault, sort_keys\u001b[38;5;241m=\u001b[39msort_keys, \u001b[38;5;241m*\u001b[39m\u001b[38;5;241m*\u001b[39mkw)\u001b[38;5;241m.\u001b[39miterencode(obj)\n\u001b[0;32m    177\u001b[0m \u001b[38;5;66;03m# could accelerate with writelines in some versions of Python, at\u001b[39;00m\n\u001b[0;32m    178\u001b[0m \u001b[38;5;66;03m# a debuggability cost\u001b[39;00m\n\u001b[1;32m--> 179\u001b[0m \u001b[43m\u001b[49m\u001b[38;5;28;43;01mfor\u001b[39;49;00m\u001b[43m \u001b[49m\u001b[43mchunk\u001b[49m\u001b[43m \u001b[49m\u001b[38;5;129;43;01min\u001b[39;49;00m\u001b[43m \u001b[49m\u001b[43miterable\u001b[49m\u001b[43m:\u001b[49m\n\u001b[0;32m    180\u001b[0m \u001b[43m    \u001b[49m\u001b[43mfp\u001b[49m\u001b[38;5;241;43m.\u001b[39;49m\u001b[43mwrite\u001b[49m\u001b[43m(\u001b[49m\u001b[43mchunk\u001b[49m\u001b[43m)\u001b[49m\n",
      "File \u001b[1;32mC:\\Program Files\\WindowsApps\\PythonSoftwareFoundation.Python.3.11_3.11.2544.0_x64__qbz5n2kfra8p0\\Lib\\json\\encoder.py:430\u001b[0m, in \u001b[0;36m_make_iterencode.<locals>._iterencode\u001b[1;34m(o, _current_indent_level)\u001b[0m\n\u001b[0;32m    428\u001b[0m     \u001b[38;5;28;01myield\u001b[39;00m _floatstr(o)\n\u001b[0;32m    429\u001b[0m \u001b[38;5;28;01melif\u001b[39;00m \u001b[38;5;28misinstance\u001b[39m(o, (\u001b[38;5;28mlist\u001b[39m, \u001b[38;5;28mtuple\u001b[39m)):\n\u001b[1;32m--> 430\u001b[0m     \u001b[38;5;28;01myield from\u001b[39;00m _iterencode_list(o, _current_indent_level)\n\u001b[0;32m    431\u001b[0m \u001b[38;5;28;01melif\u001b[39;00m \u001b[38;5;28misinstance\u001b[39m(o, \u001b[38;5;28mdict\u001b[39m):\n\u001b[0;32m    432\u001b[0m     \u001b[38;5;28;01myield from\u001b[39;00m _iterencode_dict(o, _current_indent_level)\n",
      "File \u001b[1;32mC:\\Program Files\\WindowsApps\\PythonSoftwareFoundation.Python.3.11_3.11.2544.0_x64__qbz5n2kfra8p0\\Lib\\json\\encoder.py:326\u001b[0m, in \u001b[0;36m_make_iterencode.<locals>._iterencode_list\u001b[1;34m(lst, _current_indent_level)\u001b[0m\n\u001b[0;32m    324\u001b[0m         \u001b[38;5;28;01melse\u001b[39;00m:\n\u001b[0;32m    325\u001b[0m             chunks \u001b[38;5;241m=\u001b[39m _iterencode(value, _current_indent_level)\n\u001b[1;32m--> 326\u001b[0m         \u001b[38;5;28;01myield from\u001b[39;00m chunks\n\u001b[0;32m    327\u001b[0m \u001b[38;5;28;01mif\u001b[39;00m newline_indent \u001b[38;5;129;01mis\u001b[39;00m \u001b[38;5;129;01mnot\u001b[39;00m \u001b[38;5;28;01mNone\u001b[39;00m:\n\u001b[0;32m    328\u001b[0m     _current_indent_level \u001b[38;5;241m-\u001b[39m\u001b[38;5;241m=\u001b[39m \u001b[38;5;241m1\u001b[39m\n",
      "File \u001b[1;32mC:\\Program Files\\WindowsApps\\PythonSoftwareFoundation.Python.3.11_3.11.2544.0_x64__qbz5n2kfra8p0\\Lib\\json\\encoder.py:439\u001b[0m, in \u001b[0;36m_make_iterencode.<locals>._iterencode\u001b[1;34m(o, _current_indent_level)\u001b[0m\n\u001b[0;32m    437\u001b[0m         \u001b[38;5;28;01mraise\u001b[39;00m \u001b[38;5;167;01mValueError\u001b[39;00m(\u001b[38;5;124m\"\u001b[39m\u001b[38;5;124mCircular reference detected\u001b[39m\u001b[38;5;124m\"\u001b[39m)\n\u001b[0;32m    438\u001b[0m     markers[markerid] \u001b[38;5;241m=\u001b[39m o\n\u001b[1;32m--> 439\u001b[0m o \u001b[38;5;241m=\u001b[39m \u001b[43m_default\u001b[49m\u001b[43m(\u001b[49m\u001b[43mo\u001b[49m\u001b[43m)\u001b[49m\n\u001b[0;32m    440\u001b[0m \u001b[38;5;28;01myield from\u001b[39;00m _iterencode(o, _current_indent_level)\n\u001b[0;32m    441\u001b[0m \u001b[38;5;28;01mif\u001b[39;00m markers \u001b[38;5;129;01mis\u001b[39;00m \u001b[38;5;129;01mnot\u001b[39;00m \u001b[38;5;28;01mNone\u001b[39;00m:\n",
      "File \u001b[1;32mC:\\Program Files\\WindowsApps\\PythonSoftwareFoundation.Python.3.11_3.11.2544.0_x64__qbz5n2kfra8p0\\Lib\\json\\encoder.py:180\u001b[0m, in \u001b[0;36mJSONEncoder.default\u001b[1;34m(self, o)\u001b[0m\n\u001b[0;32m    161\u001b[0m \u001b[38;5;28;01mdef\u001b[39;00m \u001b[38;5;21mdefault\u001b[39m(\u001b[38;5;28mself\u001b[39m, o):\n\u001b[0;32m    162\u001b[0m \u001b[38;5;250m    \u001b[39m\u001b[38;5;124;03m\"\"\"Implement this method in a subclass such that it returns\u001b[39;00m\n\u001b[0;32m    163\u001b[0m \u001b[38;5;124;03m    a serializable object for ``o``, or calls the base implementation\u001b[39;00m\n\u001b[0;32m    164\u001b[0m \u001b[38;5;124;03m    (to raise a ``TypeError``).\u001b[39;00m\n\u001b[1;32m   (...)\u001b[0m\n\u001b[0;32m    178\u001b[0m \n\u001b[0;32m    179\u001b[0m \u001b[38;5;124;03m    \"\"\"\u001b[39;00m\n\u001b[1;32m--> 180\u001b[0m     \u001b[38;5;28;01mraise\u001b[39;00m \u001b[38;5;167;01mTypeError\u001b[39;00m(\u001b[38;5;124mf\u001b[39m\u001b[38;5;124m'\u001b[39m\u001b[38;5;124mObject of type \u001b[39m\u001b[38;5;132;01m{\u001b[39;00mo\u001b[38;5;241m.\u001b[39m\u001b[38;5;18m__class__\u001b[39m\u001b[38;5;241m.\u001b[39m\u001b[38;5;18m__name__\u001b[39m\u001b[38;5;132;01m}\u001b[39;00m\u001b[38;5;124m \u001b[39m\u001b[38;5;124m'\u001b[39m\n\u001b[0;32m    181\u001b[0m                     \u001b[38;5;124mf\u001b[39m\u001b[38;5;124m'\u001b[39m\u001b[38;5;124mis not JSON serializable\u001b[39m\u001b[38;5;124m'\u001b[39m)\n",
      "\u001b[1;31mTypeError\u001b[0m: Object of type Document is not JSON serializable"
     ]
    }
   ],
   "source": []
  },
  {
   "cell_type": "code",
   "execution_count": null,
   "metadata": {},
   "outputs": [],
   "source": []
  }
 ],
 "metadata": {
  "kernelspec": {
   "display_name": "Python 3",
   "language": "python",
   "name": "python3"
  },
  "language_info": {
   "codemirror_mode": {
    "name": "ipython",
    "version": 3
   },
   "file_extension": ".py",
   "mimetype": "text/x-python",
   "name": "python",
   "nbconvert_exporter": "python",
   "pygments_lexer": "ipython3",
   "version": "3.11.9"
  }
 },
 "nbformat": 4,
 "nbformat_minor": 2
}
